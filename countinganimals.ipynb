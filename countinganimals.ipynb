{
 "cells": [
  {
   "cell_type": "code",
   "execution_count": 2,
   "id": "168017f8-708f-4a32-b09d-47033e76d362",
   "metadata": {},
   "outputs": [],
   "source": [
    "import cv2"
   ]
  },
  {
   "cell_type": "code",
   "execution_count": 4,
   "id": "e38cb611-e647-4f2b-be5c-1beed063822c",
   "metadata": {},
   "outputs": [],
   "source": [
    "import numpy as np"
   ]
  },
  {
   "cell_type": "code",
   "execution_count": 6,
   "id": "cef5b360-e9e3-40d8-b04e-b61db086faad",
   "metadata": {},
   "outputs": [],
   "source": [
    "import matplotlib.pyplot as plt"
   ]
  },
  {
   "cell_type": "code",
   "execution_count": 7,
   "id": "0d8f9d9c-607c-4024-a35d-d07b5a1b29ba",
   "metadata": {},
   "outputs": [],
   "source": [
    "import cvlib as cv"
   ]
  },
  {
   "cell_type": "code",
   "execution_count": 8,
   "id": "2c8b5355-02b8-435b-9c78-423d69fbc754",
   "metadata": {},
   "outputs": [],
   "source": [
    "import cvlib.object_detection"
   ]
  },
  {
   "cell_type": "code",
   "execution_count": 10,
   "id": "ec525183-be2a-4890-b650-f7bafcdd633c",
   "metadata": {},
   "outputs": [],
   "source": [
    "from cvlib.object_detection import draw_bbox"
   ]
  },
  {
   "cell_type": "code",
   "execution_count": 11,
   "id": "dd37d2fe-6fe6-47d2-adab-93856706732f",
   "metadata": {},
   "outputs": [],
   "source": [
    "import matplotlib.pyplot as plot"
   ]
  },
  {
   "cell_type": "code",
   "execution_count": 12,
   "id": "93b510e0-fa8e-4390-b9ca-386cd5ede436",
   "metadata": {},
   "outputs": [],
   "source": [
    "from PIL import Image"
   ]
  },
  {
   "cell_type": "code",
   "execution_count": 13,
   "id": "d88cef30-79f8-4358-9df4-fa594c0f63b9",
   "metadata": {},
   "outputs": [],
   "source": [
    "import imutils"
   ]
  },
  {
   "cell_type": "code",
   "execution_count": 14,
   "id": "10811d6c-0846-4615-941a-00333659da08",
   "metadata": {},
   "outputs": [
    {
     "ename": "error",
     "evalue": "OpenCV(4.10.0) D:\\a\\opencv-python\\opencv-python\\opencv\\modules\\highgui\\src\\window.cpp:1301: error: (-2:Unspecified error) The function is not implemented. Rebuild the library with Windows, GTK+ 2.x or Cocoa support. If you are on Ubuntu or Debian, install libgtk2.0-dev and pkg-config, then re-run cmake or configure script in function 'cvShowImage'\n",
     "output_type": "error",
     "traceback": [
      "\u001b[1;31m---------------------------------------------------------------------------\u001b[0m",
      "\u001b[1;31merror\u001b[0m                                     Traceback (most recent call last)",
      "Cell \u001b[1;32mIn[14], line 3\u001b[0m\n\u001b[0;32m      1\u001b[0m image \u001b[38;5;241m=\u001b[39m cv2\u001b[38;5;241m.\u001b[39mimread(\u001b[38;5;124mr\u001b[39m\u001b[38;5;124m\"\u001b[39m\u001b[38;5;124mC:\u001b[39m\u001b[38;5;124m\\\u001b[39m\u001b[38;5;124mUsers\u001b[39m\u001b[38;5;124m\\\u001b[39m\u001b[38;5;124mberra\u001b[39m\u001b[38;5;124m\\\u001b[39m\u001b[38;5;124mDesktop\u001b[39m\u001b[38;5;124m\\\u001b[39m\u001b[38;5;124mRKSoft\u001b[39m\u001b[38;5;124m\\\u001b[39m\u001b[38;5;124m2\u001b[39m\u001b[38;5;124m\\\u001b[39m\u001b[38;5;124manimals.jpg\u001b[39m\u001b[38;5;124m\"\u001b[39m)\n\u001b[1;32m----> 3\u001b[0m cv2\u001b[38;5;241m.\u001b[39mimshow(\u001b[38;5;124m\"\u001b[39m\u001b[38;5;124mImage\u001b[39m\u001b[38;5;124m\"\u001b[39m, image)\n\u001b[0;32m      5\u001b[0m cv2\u001b[38;5;241m.\u001b[39mwaitKey(\u001b[38;5;241m0\u001b[39m)\n\u001b[0;32m      7\u001b[0m cv2\u001b[38;5;241m.\u001b[39mdestroyAllWindows()\n",
      "\u001b[1;31merror\u001b[0m: OpenCV(4.10.0) D:\\a\\opencv-python\\opencv-python\\opencv\\modules\\highgui\\src\\window.cpp:1301: error: (-2:Unspecified error) The function is not implemented. Rebuild the library with Windows, GTK+ 2.x or Cocoa support. If you are on Ubuntu or Debian, install libgtk2.0-dev and pkg-config, then re-run cmake or configure script in function 'cvShowImage'\n"
     ]
    }
   ],
   "source": [
    "image = cv2.imread(r\"C:\\Users\\berra\\Desktop\\RKSoft\\2\\animals.jpg\")\n",
    "\n",
    "cv2.imshow(\"Image\", image)\n",
    " \n",
    "cv2.waitKey(0)\n",
    " \n",
    "cv2.destroyAllWindows()"
   ]
  },
  {
   "cell_type": "code",
   "execution_count": 14,
   "id": "60b8b650-17a2-4928-94a4-6ad5648715e4",
   "metadata": {},
   "outputs": [
    {
     "ename": "NameError",
     "evalue": "name 'image' is not defined",
     "output_type": "error",
     "traceback": [
      "\u001b[1;31m---------------------------------------------------------------------------\u001b[0m",
      "\u001b[1;31mNameError\u001b[0m                                 Traceback (most recent call last)",
      "Cell \u001b[1;32mIn[14], line 1\u001b[0m\n\u001b[1;32m----> 1\u001b[0m hsv_image\u001b[38;5;241m=\u001b[39m cv2\u001b[38;5;241m.\u001b[39mcvtColor(image, cv2\u001b[38;5;241m.\u001b[39mCOLOR_BGR2HSV)\n",
      "\u001b[1;31mNameError\u001b[0m: name 'image' is not defined"
     ]
    }
   ],
   "source": [
    "hsv_image= cv2.cvtColor(image, cv2.COLOR_BGR2HSV)"
   ]
  },
  {
   "cell_type": "code",
   "execution_count": 16,
   "id": "5a715252-3a25-4d6e-a9d2-64481d79374a",
   "metadata": {},
   "outputs": [
    {
     "ename": "NameError",
     "evalue": "name 'image' is not defined",
     "output_type": "error",
     "traceback": [
      "\u001b[1;31m---------------------------------------------------------------------------\u001b[0m",
      "\u001b[1;31mNameError\u001b[0m                                 Traceback (most recent call last)",
      "Cell \u001b[1;32mIn[16], line 1\u001b[0m\n\u001b[1;32m----> 1\u001b[0m blurred \u001b[38;5;241m=\u001b[39m cv2\u001b[38;5;241m.\u001b[39mGaussianBlur(image, (\u001b[38;5;241m5\u001b[39m, \u001b[38;5;241m5\u001b[39m), \u001b[38;5;241m0\u001b[39m)\n\u001b[0;32m      2\u001b[0m cv2\u001b[38;5;241m.\u001b[39mimshow(\u001b[38;5;124m'\u001b[39m\u001b[38;5;124mblurred\u001b[39m\u001b[38;5;124m'\u001b[39m,blurred)\n\u001b[0;32m      3\u001b[0m cv2\u001b[38;5;241m.\u001b[39mwaitKey(\u001b[38;5;241m0\u001b[39m)\n",
      "\u001b[1;31mNameError\u001b[0m: name 'image' is not defined"
     ]
    }
   ],
   "source": [
    "blurred = cv2.GaussianBlur(image, (5, 5), 0)\n",
    "cv2.imshow('blurred',blurred)\n",
    "cv2.waitKey(0)\n",
    " \n",
    "cv2.destroyAllWindows()"
   ]
  },
  {
   "cell_type": "code",
   "execution_count": null,
   "id": "56abb388-dd0c-4734-9553-d5438196984d",
   "metadata": {},
   "outputs": [],
   "source": [
    "edges = cv2.Canny(blurred, 50, 150)\n",
    "cv2.imshow('edges',edges)\n",
    "cv2.waitKey(0)\n",
    " \n",
    "cv2.destroyAllWindows()"
   ]
  },
  {
   "cell_type": "code",
   "execution_count": null,
   "id": "a465405c-18eb-45c1-bbad-beae8d8ce0a3",
   "metadata": {},
   "outputs": [],
   "source": [
    "#Thresholding the image.\n",
    "thresh = cv2.threshold(edges, 0,255, cv2.THRESH_BINARY_INV)[1]\n",
    "cv2.imshow(\"Thresholding Applied\", thresh)\n",
    "cv2.waitKey(0)"
   ]
  },
  {
   "cell_type": "code",
   "execution_count": null,
   "id": "3bbfba01-aca1-4183-a126-23d3653ce308",
   "metadata": {},
   "outputs": [],
   "source": [
    "kernel = np.ones((5, 5), np.uint8)"
   ]
  },
  {
   "cell_type": "code",
   "execution_count": null,
   "id": "cf94088f-b45b-45fb-98f7-e99aeae03002",
   "metadata": {},
   "outputs": [],
   "source": [
    "contours, hierarchy = cv2.findContours(thresh,  \n",
    "    cv2.RETR_EXTERNAL, cv2.CHAIN_APPROX_NONE) "
   ]
  },
  {
   "cell_type": "code",
   "execution_count": null,
   "id": "6b490a8c-4a81-4d0f-b765-7886c2c9b4e4",
   "metadata": {},
   "outputs": [],
   "source": [
    "eroted = cv2.erode(thresh, kernel, iterations=1)\n",
    "cv2.imshow('erode',eroted)\n",
    "cv2.waitKey(0)\n",
    " \n",
    "cv2.destroyAllWindows()\n",
    "cv2.imwrite(r\"C:\\Users\\berra\\Desktop\\RKSoft\\2\\dilated.jpg\", eroted)"
   ]
  },
  {
   "cell_type": "code",
   "execution_count": null,
   "id": "5e1143a8-8bcd-467e-8389-1a1345fc2028",
   "metadata": {},
   "outputs": [],
   "source": [
    "from PIL import Image \n",
    "import numpy as np\t \n",
    "\n",
    "# Opening the image and converting \n",
    "# it to RGB color mode \n",
    "# IMAGE_PATH => Path to the image \n",
    "img = Image.open(r\"C:\\Users\\berra\\Desktop\\RKSoft\\2\\dilated.jpg\").convert('RGB') \n",
    "\n",
    "# Extracting the image data & \n",
    "# creating an numpy array out of it \n",
    "img_arr = np.array(img) \n",
    "\n",
    "# Turning the pixel values of the 400x400 pixels to black \n",
    "img_arr[0 : 250, 0 : 250] = (255, 255, 255) \n",
    "\n",
    "# Creating an image out of the previously modified array \n",
    "img = Image.fromarray(img_arr) \n",
    "\n",
    "# Displaying the image \n",
    "img.show() \n",
    "cv2.imwrite(r\"C:\\Users\\berra\\Desktop\\RKSoft\\2\\dilated1.jpg\", img_arr)"
   ]
  },
  {
   "cell_type": "code",
   "execution_count": null,
   "id": "11465879-64a2-4df2-842d-16e6e47446fc",
   "metadata": {},
   "outputs": [],
   "source": [
    "from PIL import Image \n",
    "import numpy as np\t \n",
    "\n",
    "# Opening the image and converting \n",
    "# it to RGB color mode \n",
    "# IMAGE_PATH => Path to the image \n",
    "img1 = Image.open(r\"C:\\Users\\berra\\Desktop\\RKSoft\\2\\dilated1.jpg\").convert('RGB') \n",
    "\n",
    "# Extracting the image data & \n",
    "# creating an numpy array out of it \n",
    "img_arr1 = np.array(img) \n",
    "\n",
    "# Turning the pixel values of the 400x400 pixels to black \n",
    "img_arr1[470 : 600, 500 : 1000] = (255, 255, 255) \n",
    "\n",
    "# Creating an image out of the previously modified array \n",
    "img = Image.fromarray(img_arr1) \n",
    "\n",
    "# Displaying the image \n",
    "img.show() \n",
    "cv2.imwrite(r\"C:\\Users\\berra\\Desktop\\RKSoft\\2\\dilated3.jpg\", img_arr1)"
   ]
  },
  {
   "cell_type": "code",
   "execution_count": null,
   "id": "65418a80-8837-49d5-89f6-af3129e7cb3e",
   "metadata": {},
   "outputs": [],
   "source": [
    "params = cv2.SimpleBlobDetector_Params()\n",
    "\n",
    "params.filterByArea = True\n",
    "params.minArea = 100\n",
    "params.filterByCircularity = False\n",
    "params.filterByConvexity = False\n",
    "params.filterByInertia = False\n",
    "\n",
    "detector = cv2.SimpleBlobDetector_create(params)\n",
    " \n",
    "# Detect blobs.\n",
    "keypoints = detector.detect(img_arr1)\n",
    " \n",
    "# Draw detected blobs as red circles.\n",
    "# cv2.DRAW_MATCHES_FLAGS_DRAW_RICH_KEYPOINTS ensures the size of the circle corresponds to the size of blob\n",
    "img_arr1_with_keypoints = cv2.drawKeypoints(img_arr1, keypoints, np.array([]), (0,0,255), cv2.DRAW_MATCHES_FLAGS_DRAW_RICH_KEYPOINTS)\n",
    " \n",
    "# Show keypoints\n",
    "cv2.imshow(\"Keypoints\", img_arr1_with_keypoints)\n",
    "cv2.waitKey(0)"
   ]
  },
  {
   "cell_type": "code",
   "execution_count": null,
   "id": "46f5900e-5972-4da3-a620-766e63b1897d",
   "metadata": {},
   "outputs": [],
   "source": [
    "print(len(img_arr1_with_keypoints))"
   ]
  },
  {
   "cell_type": "code",
   "execution_count": null,
   "id": "60daa7ef-9dbb-4a94-a766-1fb64041325a",
   "metadata": {},
   "outputs": [],
   "source": []
  }
 ],
 "metadata": {
  "kernelspec": {
   "display_name": "Python 3 (ipykernel)",
   "language": "python",
   "name": "python3"
  },
  "language_info": {
   "codemirror_mode": {
    "name": "ipython",
    "version": 3
   },
   "file_extension": ".py",
   "mimetype": "text/x-python",
   "name": "python",
   "nbconvert_exporter": "python",
   "pygments_lexer": "ipython3",
   "version": "3.12.4"
  }
 },
 "nbformat": 4,
 "nbformat_minor": 5
}
